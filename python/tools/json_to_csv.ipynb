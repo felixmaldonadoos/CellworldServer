{
 "cells": [
  {
   "cell_type": "markdown",
   "id": "197ad175",
   "metadata": {},
   "source": [
    "## Convert Json file to CSV for cellworld_vr_visualizer\n",
    "\n",
    "### Needs\n",
    "\n",
    "- dt\n",
    "- trajectories \n",
    "\n",
    "**File Structure** \n",
    "\n",
    "episode_num (int), timestamp (float), dt (float), x_prey, y_prey, x_pred, y_pred  "
   ]
  },
  {
   "cell_type": "markdown",
   "id": "b872b747",
   "metadata": {},
   "source": []
  }
 ],
 "metadata": {
  "language_info": {
   "name": "python"
  }
 },
 "nbformat": 4,
 "nbformat_minor": 5
}
