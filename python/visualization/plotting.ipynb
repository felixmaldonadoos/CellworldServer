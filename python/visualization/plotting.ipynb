{
 "cells": [
  {
   "cell_type": "code",
   "execution_count": 1,
   "metadata": {},
   "outputs": [
    {
     "name": "stdout",
     "output_type": "stream",
     "text": [
      "No experiment found: e is NONE\n"
     ]
    }
   ],
   "source": [
    "import sys\n",
    "from plottinglib.plotting_vr_logs import *\n",
    "if 'plottinglib.plotting_vr_logs' in sys.modules:\n",
    "    del sys.modules['plottinglib.plotting_vr_logs']\n",
    "    from plottinglib.plotting_vr_logs import *\n",
    "    \n",
    "file = \"../logs/crown_12062024_091414.json\"\n",
    "plot_experiment(file)"
   ]
  },
  {
   "cell_type": "code",
   "execution_count": null,
   "metadata": {},
   "outputs": [],
   "source": [
    "!pip3 install cellworld"
   ]
  },
  {
   "cell_type": "code",
   "execution_count": null,
   "metadata": {},
   "outputs": [],
   "source": [
    "from plottinglib.plotting_vr_logs import *\n",
    "import sys\n",
    "if 'plottinglib.plotting_vr_logs' in sys.modules:\n",
    "    del sys.modules['plottinglib.plotting_vr_logs']\n",
    "    from plottinglib.plotting_vr_logs import *\n",
    "\n",
    "data = ExperimentData()\n",
    "data.load_from_file(file)"
   ]
  },
  {
   "cell_type": "markdown",
   "metadata": {},
   "source": [
    "### Get Latest log in folder "
   ]
  },
  {
   "cell_type": "code",
   "execution_count": null,
   "metadata": {},
   "outputs": [],
   "source": [
    "def get_newest_file_in_folder(folder_path, extension=\"*\"):\n",
    "    if extension == \"*\":\n",
    "        search_pattern = os.path.join(folder_path, \"*\")\n",
    "    else:\n",
    "        search_pattern = os.path.join(folder_path, f\"*.{extension}\")\n",
    "    \n",
    "    files = glob.glob(search_pattern)\n",
    "    if not files:\n",
    "        return None\n",
    "    \n",
    "    newest_file = max(files, key=os.path.getmtime)\n",
    "    return newest_file\n",
    "\n",
    "folder_path = \"../logs\"  # Replace with the path to your folder\n",
    "extension = \"json\"  # Replace with the desired file extension (e.g., 'txt', 'jpg', 'py')\n",
    "newest_file = get_newest_file_in_folder(folder_path, extension)\n",
    "if newest_file: \n",
    "  file = newest_file\n",
    "  print(f\"Newest file: {file}\")\n",
    "else:\n",
    "  print(\"No files found!\")"
   ]
  },
  {
   "cell_type": "markdown",
   "metadata": {},
   "source": [
    "# Crown 10/18/2024\n",
    "## Alexander "
   ]
  },
  {
   "cell_type": "code",
   "execution_count": null,
   "metadata": {},
   "outputs": [],
   "source": [
    "occlusions = '21_05'\n",
    "w = cw.World.get_from_parameters_names('hexagonal',\"canonical\",occlusions)\n",
    "d = cw.Display(w, fig_size=(10,10), padding=0, cell_edge_color=\"lightgrey\", background_color=\"white\", habitat_edge_color=\"black\")\n",
    "exp = cw.Experiment.load_from_file('../logs/crown_alexander_10182024_095507.json')\n",
    "\n",
    "for episode in exp.episodes:\n",
    "  t = episode.trajectories\n",
    "  ht = t.get_agent_trajectory('prey')\n",
    "  d.add_trajectories(ht, colors = {'prey': 'grey'}, alphas = {'prey': 0.7})"
   ]
  },
  {
   "cell_type": "code",
   "execution_count": null,
   "metadata": {},
   "outputs": [],
   "source": []
  },
  {
   "cell_type": "code",
   "execution_count": null,
   "metadata": {},
   "outputs": [],
   "source": [
    "## show summary info of trajectories \n",
    "# show time steps \n",
    "\n",
    "def detect_outliers(array):\n",
    "    import numpy as np \n",
    "    mean = np.mean(array)\n",
    "    std = np.std(array)\n",
    "    lower_bound = mean - std\n",
    "    upper_bound = mean + std\n",
    "    outliers = array[(array < lower_bound) | (array > upper_bound)]\n",
    "    \n",
    "    if len(outliers) > 0:\n",
    "        return f\"Outliers detected: {outliers}\"\n",
    "    else:\n",
    "        return \"No outliers detected\"\n",
    "    \n",
    "def show_info(filepath:str=None):\n",
    "    import numpy as np\n",
    "    if not filepath: print(\"need a filepath\"); return\n",
    "\n",
    "    e = Experiment.load_from_file(filepath)\n",
    "    if e is None: \n",
    "        print(\"No experiment found: e is NONE\")\n",
    "        return \n",
    "    \n",
    "    w = World.get_from_parameters_names('hexagonal',\"canonical\",e.occlusions)\n",
    "    subject_str = 'prey'\n",
    "    scalar = 1.0\n",
    "    mv = 1.0\n",
    "    print(f'Episode count: {len(e.episodes)}')\n",
    "    grads = []\n",
    "    for i, episode in enumerate(e.episodes[:]):\n",
    "        t = episode.trajectories\n",
    "        tprey = t.get_agent_trajectory('prey')\n",
    "        tpred = t.get_agent_trajectory('predator')\n",
    "        \n",
    "        frame_list = tprey.get('frame')\n",
    "        nv = [f/(max(frame_list)) for f in frame_list]\n",
    "        grad = np.gradient(nv)\n",
    "        grads.append(grad)\n",
    "\n",
    "    return grads\n",
    "    \n",
    "g = show_info(file)"
   ]
  },
  {
   "cell_type": "code",
   "execution_count": null,
   "metadata": {},
   "outputs": [],
   "source": [
    "# file = '/mnt/c/Users/MacIver/Research/BotEvade/CellworldServer/main/cpp/robot_controller/logs/labtest_08202024_164619.json'\n",
    "e = Experiment.load_from_file(file)\n",
    "w = World.get_from_parameters_names('hexagonal',\"canonical\",e.occlusions)\n",
    "subject_str = 'prey'\n",
    "scalar = 1.0\n",
    "mv = 1.0\n",
    "print(f'Episode count: {len(e.episodes)}')\n",
    "import numpy as np \n",
    "gp = []\n",
    "gpp = []\n",
    "for i, episode in enumerate(e.episodes[:]):\n",
    "    t = episode.trajectories\n",
    "    tprey = t.get_agent_trajectory('prey')\n",
    "    frame_list = tprey.get('frame')\n",
    "    gpp.append(tprey.get_locations())\n",
    "    \n",
    "xt = tprey.get('location').get('x')\n",
    "tjson = tprey.get('time_stamp')\n",
    "t = np.array(list(tjson)) - tjson[0]\n",
    "plt.plot(t,xt,'--o')\n",
    "# gpp = np.gradient(np.gradient(xt))\n",
    "# print(gpp)\n",
    "# print(np.where(np.nonzero(gpp)))\n",
    "# xt = tprey.get_locations().get('prey').get('y')"
   ]
  },
  {
   "cell_type": "code",
   "execution_count": null,
   "metadata": {},
   "outputs": [],
   "source": [
    "np.array(list(t)) - t[0]"
   ]
  },
  {
   "cell_type": "code",
   "execution_count": null,
   "metadata": {},
   "outputs": [],
   "source": [
    "df = tprey.to_dataframe()\n",
    "df.time_stamp"
   ]
  },
  {
   "cell_type": "code",
   "execution_count": null,
   "metadata": {},
   "outputs": [],
   "source": [
    "import numpy as np\n",
    "fs = 1/g[0][0]\n",
    "print(fs)\n",
    "np.where(np.nonzero(np.gradient(g[0])))[1]"
   ]
  }
 ],
 "metadata": {
  "kernelspec": {
   "display_name": "Python 3",
   "language": "python",
   "name": "python3"
  },
  "language_info": {
   "codemirror_mode": {
    "name": "ipython",
    "version": 3
   },
   "file_extension": ".py",
   "mimetype": "text/x-python",
   "name": "python",
   "nbconvert_exporter": "python",
   "pygments_lexer": "ipython3",
   "version": "3.10.12"
  }
 },
 "nbformat": 4,
 "nbformat_minor": 2
}
