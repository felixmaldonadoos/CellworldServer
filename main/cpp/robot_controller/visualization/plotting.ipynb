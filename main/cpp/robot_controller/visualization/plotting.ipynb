{
 "cells": [
  {
   "cell_type": "code",
   "execution_count": 6,
   "metadata": {},
   "outputs": [
    {
     "name": "stdout",
     "output_type": "stream",
     "text": [
      "No experiment found: e is NONE\n"
     ]
    }
   ],
   "source": [
    "import matplotlib.pyplot as plt\n",
    "# import pandas as pd\n",
    "import cellworld as cw\n",
    "from cellworld import *\n",
    "\n",
    "def plot_experiment(exp_path:str=None):\n",
    "  if exp_path is None: \n",
    "    print(\"No file passed\")\n",
    "    return \n",
    "  \n",
    "  e = Experiment.load_from_file(exp_path)\n",
    "  # reward_locations = e.rewards_cells\n",
    "  # reward_angles = e.rewards_orientations\n",
    "  # reward_cmap = plt.cm.tab20\n",
    "  if e is None: \n",
    "    print(\"No experiment found: e is NONE\")\n",
    "    return \n",
    "  w = World.get_from_parameters_names('hexagonal',\"canonical\",e.occlusions)\n",
    "  d = Display(w, fig_size=(10,10), padding=0, cell_edge_color=\"lightgrey\", background_color=\"white\", habitat_edge_color=\"black\")\n",
    "  subject_str = 'prey'\n",
    "  scalar = 1.0\n",
    "  mv = 1.0\n",
    "\n",
    "  fig,ax = plt.subplots(1, 1, figsize=(7.2,6))\n",
    "\n",
    "  for i, episode in enumerate(e.episodes[:]):\n",
    "    t = episode.trajectories\n",
    "    rt = t.get_agent_trajectory('prey')\n",
    "    rpred = t.get_agent_trajectory('predator')\n",
    "\n",
    "    d.add_trajectories(rt)\n",
    "    d.add_trajectories(rpred)\n",
    "    ax.plot(rt.get('location').get('x'),rt.get('location').get('y'))\n",
    "  \n",
    "    # d.add_trajectories(rt)\n",
    "    # d.add_trajectories(rpred)\n",
    "  fig.show()\n",
    "\n",
    "def plot_episode(episode_path:str=None):\n",
    "  if episode_path is None: \n",
    "    print(\"No file passed\")\n",
    "    return\n",
    "\n",
    "  w = World.get_from_parameters_names('hexagonal',\"canonical\",'21_05')\n",
    "  d = Display(w, fig_size=(6,6), padding=0, cell_edge_color=\"lightgrey\", background_color=\"white\", habitat_edge_color=\"black\")\n",
    "  scalar = 1.0\n",
    "  mv = 1.0\n",
    "  # d.ax.set_xlim([0,1])\n",
    "  # d.ax.set_ylim([-.5,1])\n",
    "  episode = Episode.load_from_file(episode_path)\n",
    "  t = episode.trajectories\n",
    "  agent_t = t.split_by_agent()\n",
    "  m1_t = agent_t['prey']\n",
    "  d.ax.plot(m1_t.get('location').get('x'),[y for y in m1_t.get('location').get('y')])\n",
    "  print(t[0])\n",
    "  # d.add_trajectories(t, colors = {'prey': 'darkorange'},\n",
    "  #                   alphas = {'prey': 1.0}, zorder = 5)\n",
    "\n",
    "  cw.Cell_group_builder.get_from_name(\"hexagonal\", \"20_05\", \"occlusions\")\n",
    "\n",
    "plot_episode('logs/labtest_07312024_135044.json')"
   ]
  }
 ],
 "metadata": {
  "kernelspec": {
   "display_name": "venv",
   "language": "python",
   "name": "python3"
  },
  "language_info": {
   "codemirror_mode": {
    "name": "ipython",
    "version": 3
   },
   "file_extension": ".py",
   "mimetype": "text/x-python",
   "name": "python",
   "nbconvert_exporter": "python",
   "pygments_lexer": "ipython3",
   "version": "3.10.12"
  }
 },
 "nbformat": 4,
 "nbformat_minor": 2
}
